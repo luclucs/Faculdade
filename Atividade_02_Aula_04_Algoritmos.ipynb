{
  "nbformat": 4,
  "nbformat_minor": 0,
  "metadata": {
    "colab": {
      "provenance": [],
      "authorship_tag": "ABX9TyPqe7Y0UO+y9OWFwDXVzi9+",
      "include_colab_link": true
    },
    "kernelspec": {
      "name": "python3",
      "display_name": "Python 3"
    },
    "language_info": {
      "name": "python"
    }
  },
  "cells": [
    {
      "cell_type": "markdown",
      "metadata": {
        "id": "view-in-github",
        "colab_type": "text"
      },
      "source": [
        "<a href=\"https://colab.research.google.com/github/luclucs/Faculdade/blob/main/Atividade_02_Aula_04_Algoritmos.ipynb\" target=\"_parent\"><img src=\"https://colab.research.google.com/assets/colab-badge.svg\" alt=\"Open In Colab\"/></a>"
      ]
    },
    {
      "cell_type": "markdown",
      "source": [
        "TASK on SAVA\n",
        "\n",
        "Efetue a raspagem do site G1 Globo\n",
        "Primeira Etapa\n",
        "\n",
        "\n",
        "*   Acessar a página inicial do G1.\n",
        "\n",
        "*   Fazer a requisição HTTP com requests.\n",
        "\n",
        "*   Utilizar o BeautifulSoup para processar o HTML.\n",
        "\n",
        "*   Extrair os títulos das manchetes principais.\n",
        "\n",
        "*   Exibir os títulos em uma lista organizada no\n",
        "terminal.\n"
      ],
      "metadata": {
        "id": "0wSfEothjH1F"
      }
    },
    {
      "cell_type": "code",
      "execution_count": 1,
      "metadata": {
        "colab": {
          "base_uri": "https://localhost:8080/"
        },
        "id": "FnHr0b66i-6a",
        "outputId": "93c6f71b-9df6-4fdd-fe4d-67bce9800db0"
      },
      "outputs": [
        {
          "output_type": "stream",
          "name": "stdout",
          "text": [
            "01. Dia 4 do julgamento: como foi voto de Fux que abriu divergências com Moraes\n",
            "02. Placar do julgamento: veja como votaram os ministros até agora\n",
            "03. STF tem maioria para condenar Braga Netto por abolição do Estado de Direito\n",
            "04. Fux vota para absolver Augusto Heleno de todos os cinco crimes\n",
            "05. Após voto de 13h de Fux, Zanin decide retomar julgamento só amanhã à tarde\n",
            "06. Aliados de Bolsonaro comparam voto de Fux à tese inicial da defesa\n",
            "07. Julgamento no STF\n",
            "08. Moraes autoriza Bolsonaro a realizar procedimento médico\n",
            "09. Fux brinca com Dino antes do voto; veja VÍDEOS do 4º dia de julgamento\n"
          ]
        }
      ],
      "source": [
        "import requests\n",
        "from bs4 import BeautifulSoup\n",
        "\n",
        "url = \"https://g1.globo.com/\"\n",
        "r = requests.get(url, timeout=30)\n",
        "if r.status_code != 200:\n",
        "    print(f\"HTTP {r.status_code}\")\n",
        "    raise SystemExit\n",
        "\n",
        "soup = BeautifulSoup(r.content, \"html.parser\")\n",
        "\n",
        "candidatos = []\n",
        "for sel in [\"a.feed-post-link\", \"div.feed-post-body-title\", \"a.post__link\", \"h1\", \"h2\"]:\n",
        "    for el in soup.select(sel):\n",
        "        t = el.get_text(strip=True)\n",
        "        if t:\n",
        "            candidatos.append(t)\n",
        "\n",
        "vistos, titulos = set(), []\n",
        "for t in candidatos:\n",
        "    if t not in vistos:\n",
        "        vistos.add(t)\n",
        "        titulos.append(t)\n",
        "\n",
        "for i, t in enumerate(titulos[:20], 1):\n",
        "    print(f\"{i:02d}. {t}\")\n"
      ]
    },
    {
      "cell_type": "markdown",
      "source": [
        "Segunda Etapa\n",
        "\n",
        "\n",
        "✅ O que você deve fazer:\n",
        "\n",
        "\n",
        "*   Executar o código no seu ambiente.\n",
        "\n",
        "*   Alterar para pegar os links das notícias além do\n",
        "título.\n",
        "\n",
        "*   Adaptar para salvar o resultado em um arquivo CSV (com título + link).\n"
      ],
      "metadata": {
        "id": "lI17F--xjeig"
      }
    },
    {
      "cell_type": "code",
      "source": [
        "import requests\n",
        "from bs4 import BeautifulSoup\n",
        "from urllib.parse import urljoin\n",
        "import csv\n",
        "\n",
        "url = \"https://g1.globo.com/\"\n",
        "r = requests.get(url, timeout=30)\n",
        "if r.status_code != 200:\n",
        "    print(f\"HTTP {r.status_code}\")\n",
        "    raise SystemExit\n",
        "\n",
        "soup = BeautifulSoup(r.content, \"html.parser\")\n",
        "\n",
        "items = []\n",
        "for a in soup.select(\"a.feed-post-link, a.post__link\"):\n",
        "    t = a.get_text(strip=True)\n",
        "    h = a.get(\"href\")\n",
        "    if t and h:\n",
        "        items.append((t, urljoin(url, h)))\n",
        "\n",
        "for i, (t, h) in enumerate(items, 1):\n",
        "    print(f\"{i:02d}. {t}\\n    {h}\")\n",
        "\n",
        "with open(\"g1_manchetes.csv\", \"w\", newline=\"\", encoding=\"utf-8-sig\") as f:\n",
        "    w = csv.writer(f)\n",
        "    w.writerow([\"titulo\", \"link\"])\n",
        "    w.writerows(items)\n"
      ],
      "metadata": {
        "colab": {
          "base_uri": "https://localhost:8080/"
        },
        "id": "l1FHomhbjuu1",
        "outputId": "80f583a1-775b-4e58-d163-e00d62368e8e"
      },
      "execution_count": 2,
      "outputs": [
        {
          "output_type": "stream",
          "name": "stdout",
          "text": [
            "01. Dia 4 do julgamento: como foi voto de Fux que abriu divergências com Moraes\n",
            "    https://g1.globo.com/politica/noticia/2025/09/10/julgamento-de-bolsonaro-dia-4-como-foi-o-voto-de-fux-para-absolver-o-ex-presidente-de-todos-os-crimes-placar-e-de-2-x-1-pela-condenacao.ghtml\n",
            "02. Placar do julgamento: veja como votaram os ministros até agora\n",
            "    https://g1.globo.com/politica/noticia/2025/09/09/trama-golpista-placar-do-julgamento-infografico.ghtml\n",
            "03. STF tem maioria para condenar Braga Netto por abolição do Estado de Direito\n",
            "    https://g1.globo.com/politica/noticia/2025/09/10/fux-vota-braga-netto.ghtml\n",
            "04. Fux vota para absolver Augusto Heleno de todos os cinco crimes\n",
            "    https://g1.globo.com/politica/noticia/2025/09/10/fux-vota-augusto-heleno.ghtml\n",
            "05. Após voto de 13h de Fux, Zanin decide retomar julgamento só amanhã à tarde\n",
            "    https://g1.globo.com/politica/ao-vivo/bolsonaro-julgamento-golpe-ao-vivo-stf.ghtml?postId=98b72185-9ce9-499d-bb4c-bc91785f1377\n",
            "06. Aliados de Bolsonaro comparam voto de Fux à tese inicial da defesa\n",
            "    https://g1.globo.com/politica/blog/andreia-sadi/post/2025/09/10/para-defesa-de-bolsonaro-voto-de-fux-pela-condenacao-de-braga-netto-reforca-inocencia-do-ex-presidente.ghtml\n",
            "07. Moraes autoriza Bolsonaro a realizar procedimento médico\n",
            "    https://g1.globo.com/politica/noticia/2025/09/10/moraes-autoriza-bolsonaro-a-realizar-procedimento-medico.ghtml\n",
            "08. Fux brinca com Dino antes do voto; veja VÍDEOS do 4º dia de julgamento\n",
            "    https://g1.globo.com/politica/playlist/videos-quarto-dia-de-julgamento-trama-golpista.ghtml\n"
          ]
        }
      ]
    }
  ]
}