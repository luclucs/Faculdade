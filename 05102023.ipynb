{
  "nbformat": 4,
  "nbformat_minor": 0,
  "metadata": {
    "colab": {
      "provenance": [],
      "authorship_tag": "ABX9TyNjZs2lQXrTTyB/u+1x8Ygq",
      "include_colab_link": true
    },
    "kernelspec": {
      "name": "python3",
      "display_name": "Python 3"
    },
    "language_info": {
      "name": "python"
    }
  },
  "cells": [
    {
      "cell_type": "markdown",
      "metadata": {
        "id": "view-in-github",
        "colab_type": "text"
      },
      "source": [
        "<a href=\"https://colab.research.google.com/github/luclucs/Faculdade/blob/main/05102023.ipynb\" target=\"_parent\"><img src=\"https://colab.research.google.com/assets/colab-badge.svg\" alt=\"Open In Colab\"/></a>"
      ]
    },
    {
      "cell_type": "code",
      "execution_count": null,
      "metadata": {
        "colab": {
          "base_uri": "https://localhost:8080/"
        },
        "id": "q16OdkI0wZ1t",
        "outputId": "d6da0774-d93f-429c-b85f-22163110a82c"
      },
      "outputs": [
        {
          "output_type": "stream",
          "name": "stdout",
          "text": [
            "Requirement already satisfied: chart_studio in /usr/local/lib/python3.10/dist-packages (1.1.0)\n",
            "Requirement already satisfied: plotly in /usr/local/lib/python3.10/dist-packages (from chart_studio) (5.15.0)\n",
            "Requirement already satisfied: requests in /usr/local/lib/python3.10/dist-packages (from chart_studio) (2.31.0)\n",
            "Requirement already satisfied: retrying>=1.3.3 in /usr/local/lib/python3.10/dist-packages (from chart_studio) (1.3.4)\n",
            "Requirement already satisfied: six in /usr/local/lib/python3.10/dist-packages (from chart_studio) (1.16.0)\n",
            "Requirement already satisfied: tenacity>=6.2.0 in /usr/local/lib/python3.10/dist-packages (from plotly->chart_studio) (8.2.3)\n",
            "Requirement already satisfied: packaging in /usr/local/lib/python3.10/dist-packages (from plotly->chart_studio) (23.2)\n",
            "Requirement already satisfied: charset-normalizer<4,>=2 in /usr/local/lib/python3.10/dist-packages (from requests->chart_studio) (3.3.1)\n",
            "Requirement already satisfied: idna<4,>=2.5 in /usr/local/lib/python3.10/dist-packages (from requests->chart_studio) (3.4)\n",
            "Requirement already satisfied: urllib3<3,>=1.21.1 in /usr/local/lib/python3.10/dist-packages (from requests->chart_studio) (2.0.7)\n",
            "Requirement already satisfied: certifi>=2017.4.17 in /usr/local/lib/python3.10/dist-packages (from requests->chart_studio) (2023.7.22)\n",
            "['Name', 'Sales', 'Series', 'Release', 'Genre', 'Developer', 'Publisher']\n"
          ]
        }
      ],
      "source": [
        "import pandas as pd\n",
        "!pip install chart_studio\n",
        "import chart_studio\n",
        "import chart_studio.plotly as py\n",
        "\n",
        "chart_studio.tools.set_credentials_file(username='luclucs', api_key='JeAzU5m5DBtUelFN4ILq')\n",
        "\n",
        "\n",
        "# Carregar um arquivo CSV em um DataFrame\n",
        "df = pd.read_csv('/content/Games.csv')\n",
        "\n",
        "colunas = df.columns.tolist()\n",
        "print(colunas)"
      ]
    },
    {
      "cell_type": "code",
      "source": [
        "import pandas as pd\n",
        "import plotly.graph_objs as go\n",
        "import numpy as np\n",
        "\n",
        "# Carregar a base de dados\n",
        "df = pd.read_csv('/content/Games.csv')\n",
        "\n",
        "# Classificar o DataFrame pelos jogos mais vendidos\n",
        "df_top_10 = df.sort_values(by='Sales', ascending=False).head(10)\n",
        "\n",
        "# Criar um gráfico de barras horizontais com Plotly Express\n",
        "fig = px.bar(df_top_10, x='Sales', y='Name', orientation='h',\n",
        "             labels={'Name': 'Nome do Jogo', 'Sales': 'Vendas (milhões)'},\n",
        "             title='Top 10 Jogos Mais Vendidos')\n",
        "\n",
        "# Personalizar os textos nas barras\n",
        "fig.update_traces(text=df_top_10['Sales'].apply(lambda x: f'{x:.2f} milhões'))\n",
        "\n",
        "py.iplot(fig, filename='histograma-vendas-jogos-pc')\n"
      ],
      "metadata": {
        "colab": {
          "base_uri": "https://localhost:8080/",
          "height": 546
        },
        "id": "vAXliGljFo69",
        "outputId": "ae15b0a5-3eb1-4d79-9f09-7b133c99afe6"
      },
      "execution_count": null,
      "outputs": [
        {
          "output_type": "execute_result",
          "data": {
            "text/plain": [
              "<IPython.lib.display.IFrame at 0x7b0f0fc42c50>"
            ],
            "text/html": [
              "\n",
              "        <iframe\n",
              "            width=\"100%\"\n",
              "            height=\"525px\"\n",
              "            src=\"https://plotly.com/~luclucs/20.embed\"\n",
              "            frameborder=\"0\"\n",
              "            allowfullscreen\n",
              "            \n",
              "        ></iframe>\n",
              "        "
            ]
          },
          "metadata": {},
          "execution_count": 14
        }
      ]
    },
    {
      "cell_type": "code",
      "source": [
        "# Jogos mais vendidos\n",
        "# Ordenar o DataFrame pelos jogos mais vendidos (maior número de vendas)\n",
        "jogos_mais_vendidos = df.sort_values(by='Sales', ascending=False)\n",
        "\n",
        "# Exibir os jogos mais vendidos\n",
        "print('Os jogos mais vendidos são:')\n",
        "print(jogos_mais_vendidos[['Name', 'Sales']].head())\n",
        "\n",
        "# Se desejar, você pode salvar essa informação em um novo DataFrame ou arquivo, por exemplo:\n",
        "# jogos_mais_vendidos.to_csv('jogos_mais_vendidos.csv', index=False)"
      ],
      "metadata": {
        "colab": {
          "base_uri": "https://localhost:8080/"
        },
        "id": "IBh63z1-GhwF",
        "outputId": "f5455234-f08e-40b9-f4de-e23b7a9ca060"
      },
      "execution_count": null,
      "outputs": [
        {
          "output_type": "stream",
          "name": "stdout",
          "text": [
            "Os jogos mais vendidos são:\n",
            "                            Name  Sales\n",
            "0  PlayerUnknown's Battlegrounds   42.0\n",
            "1                      Minecraft   33.0\n",
            "2                     Diablo III   20.0\n",
            "3                    Garry's Mod   20.0\n",
            "4                       Terraria   17.2\n"
          ]
        }
      ]
    },
    {
      "cell_type": "code",
      "source": [
        "# Qual o gênero preferido do consumidor na hora de escolher um jogo para comprar?\n",
        "\n",
        "import pandas as pd\n",
        "import plotly.express as px\n",
        "\n",
        "# Carregar a base de dados\n",
        "df = pd.read_csv('/content/Games.csv')\n",
        "\n",
        "# Agregar as vendas por gênero\n",
        "genre_sales = df.groupby('Genre')['Sales'].sum().reset_index()\n",
        "\n",
        "# Classificar os gêneros pelas vendas\n",
        "genre_sales = genre_sales.sort_values(by='Sales', ascending=False).head(5)\n",
        "\n",
        "# Criar um gráfico de barras com Plotly Express\n",
        "fig = px.bar(genre_sales, x='Sales', y='Genre',\n",
        "             labels={'Genre': 'Gênero', 'Sales': 'Vendas (milhões)'},\n",
        "             title='Top 5 Gêneros Mais Vendidos')\n",
        "\n",
        "# Personalizar os textos nas barras\n",
        "fig.update_traces(text=genre_sales['Sales'].apply(lambda x: f'{x:.2f} milhões'))\n",
        "\n",
        "# Enviar o gráfico para o Chart Studio\n",
        "py.plot(fig, filename='top-5-generos-mais-vendidos')\n"
      ],
      "metadata": {
        "colab": {
          "base_uri": "https://localhost:8080/",
          "height": 35
        },
        "id": "UzYgkSduJvz2",
        "outputId": "04ae89cc-edd8-435a-b4d8-9e311d1c8fe1"
      },
      "execution_count": null,
      "outputs": [
        {
          "output_type": "execute_result",
          "data": {
            "text/plain": [
              "'https://plotly.com/~luclucs/25/'"
            ],
            "application/vnd.google.colaboratory.intrinsic+json": {
              "type": "string"
            }
          },
          "metadata": {},
          "execution_count": 17
        }
      ]
    },
    {
      "cell_type": "code",
      "source": [
        "# Qual dentre os desenvolvedores obteve mais vendas?\n",
        "\n",
        "import pandas as pd\n",
        "import plotly.express as px\n",
        "\n",
        "# Carregar a base de dados\n",
        "df = pd.read_csv('/content/Games.csv')\n",
        "\n",
        "# Agregar as vendas por desenvolvedor\n",
        "developer_sales = df.groupby('Developer')['Sales'].sum().reset_index()\n",
        "\n",
        "# Classificar os desenvolvedores pelas vendas\n",
        "developer_sales = developer_sales.sort_values(by='Sales', ascending=False).head(5)\n",
        "\n",
        "# Criar um gráfico de barras com Plotly Express\n",
        "fig = px.bar(developer_sales, x='Sales', y='Developer',\n",
        "             labels={'Developer': 'Desenvolvedor', 'Sales': 'Vendas (milhões)'},\n",
        "             title='Top 5 Desenvolvedores com Mais Vendas')\n",
        "\n",
        "# Personalizar os textos nas barras\n",
        "fig.update_traces(text=developer_sales['Sales'].apply(lambda x: f'{x:.2f} milhões'))\n",
        "\n",
        "# Enviar o gráfico para o Chart Studio\n",
        "py.plot(fig, filename='top-5-desenvolvedores-mais-vendidos')\n"
      ],
      "metadata": {
        "colab": {
          "base_uri": "https://localhost:8080/",
          "height": 779
        },
        "id": "cIv8sfERKudT",
        "outputId": "96ddaafa-676a-4530-ef2d-5153c0a6c4dd"
      },
      "execution_count": null,
      "outputs": [
        {
          "output_type": "display_data",
          "data": {
            "text/plain": [
              "<Figure size 1200x800 with 1 Axes>"
            ],
            "image/png": "[encoded data removed]"
          },
          "metadata": {}
        }
      ]
    },
    {
      "cell_type": "code",
      "source": [
        "# Jogos com data de lançamento mais antigas tendem a terem números de vendas superiores aos mais recentes pelo tempo?\n",
        "\n",
        "import pandas as pd\n",
        "import plotly.express as px\n",
        "\n",
        "# Carregar a base de dados\n",
        "df = pd.read_csv('/content/Games.csv')\n",
        "\n",
        "# Converter as datas de \"Mês-Ano\" para ano (por exemplo, \"Dec-17\" para 2017)\n",
        "df['Release'] = pd.to_datetime(df['Release'], format='%b-%y').dt.year\n",
        "\n",
        "# Definir os intervalos de tempo desejados\n",
        "intervals = [1985, 1990, 1995, 2000, 2005, 2010, 2015, 2017]\n",
        "\n",
        "# Criar uma nova coluna no DataFrame para categorizar os dados nos intervalos\n",
        "df['Release Interval'] = pd.cut(df['Release'], bins=intervals, labels=intervals[:-1])\n",
        "\n",
        "# Agregar as vendas por intervalo de tempo\n",
        "interval_sales = df.groupby('Release Interval')['Sales'].sum().reset_index()\n",
        "\n",
        "# Criar um gráfico de barras com Plotly Express\n",
        "fig = px.bar(interval_sales, x='Release Interval', y='Sales',\n",
        "             labels={'Release Interval': 'Intervalo de Ano', 'Sales': 'Vendas (milhões)'},\n",
        "             title='Relação entre Intervalo de Ano e Vendas')\n",
        "\n",
        "# Enviar o gráfico para o Chart Studio\n",
        "py.plot(fig, filename='relacao-intervalo-ano-vendas')\n",
        "\n"
      ],
      "metadata": {
        "colab": {
          "base_uri": "https://localhost:8080/",
          "height": 35
        },
        "id": "ZKKGHfdGKyCB",
        "outputId": "ef02ed09-a350-4aa5-e00a-cec67a9b4dee"
      },
      "execution_count": null,
      "outputs": [
        {
          "output_type": "execute_result",
          "data": {
            "text/plain": [
              "'https://plotly.com/~luclucs/29/'"
            ],
            "application/vnd.google.colaboratory.intrinsic+json": {
              "type": "string"
            }
          },
          "metadata": {},
          "execution_count": 20
        }
      ]
    },
    {
      "cell_type": "code",
      "source": [
        "# Qual o menor intervalo de lançamentos entre as empresas?\n",
        "import pandas as pd\n",
        "df = pd.read_csv('/content/Games.csv')\n",
        "\n",
        "df['Release'] = pd.to_datetime(df['Release'], format='%b-%y', errors='coerce')\n",
        "empresas_com_mais_de_um_jogo = df['Developer'].value_counts().index[df['Developer'].value_counts() > 1]\n",
        "df_filtrado = df[df['Developer'].isin(empresas_com_mais_de_um_jogo)]\n",
        "df_filtrado = df_filtrado.sort_values(by=['Developer', 'Release'])\n",
        "df_filtrado['Intervalo'] = df_filtrado.groupby('Developer')['Release'].diff().dt.days\n",
        "\n",
        "menor_intervalo_por_empresa = df_filtrado.groupby('Developer')['Intervalo'].min()\n",
        "print(menor_intervalo_por_empresa)\n"
      ],
      "metadata": {
        "colab": {
          "base_uri": "https://localhost:8080/"
        },
        "id": "93VvekVwE0ux",
        "outputId": "f1c9096c-c89a-487e-88ce-b3bd4f7ffcb2"
      },
      "execution_count": null,
      "outputs": [
        {
          "output_type": "stream",
          "name": "stdout",
          "text": [
            "Developer\n",
            "ArenaNet                      2679.0\n",
            "Ascaron                        152.0\n",
            "BioWare                        638.0\n",
            "Blizzard Entertainment         304.0\n",
            "Blizzard North                1278.0\n",
            "Bohemia Interactive             91.0\n",
            "Bullfrog Productions          5844.0\n",
            "CD Projekt Red                1308.0\n",
            "Capcom                          62.0\n",
            "Crytek                        1340.0\n",
            "EA DICE                        547.0\n",
            "Ensemble Studios               700.0\n",
            "Epic Games                     549.0\n",
            "Facepunch Studios             4110.0\n",
            "Firaxis Games                 1461.0\n",
            "Firefly Studios                273.0\n",
            "FromSoftware                   608.0\n",
            "Frontier Developments         4414.0\n",
            "Gas Powered Games             1767.0\n",
            "Haemimont Games                396.0\n",
            "Illusion Softworks             426.0\n",
            "Impressions Game               396.0\n",
            "LucasArts                      516.0\n",
            "Max Design                    1642.0\n",
            "Maxis                          273.0\n",
            "MicroProse                     182.0\n",
            "Paradox Development Studio      31.0\n",
            "PopTop Software                882.0\n",
            "SCS Software                     0.0\n",
            "Sierra Online                   62.0\n",
            "Spike Chunsoft                  60.0\n",
            "System 3                      1004.0\n",
            "Valve                            0.0\n",
            "Westwood Studios               396.0\n",
            "id Software                    274.0\n",
            "Name: Intervalo, dtype: float64\n"
          ]
        }
      ]
    },
    {
      "cell_type": "code",
      "source": [
        "import pandas as pd\n",
        "import chart_studio.plotly as py\n",
        "\n",
        "# Carregar a base de dados\n",
        "df = pd.read_csv('/content/Games.csv')\n",
        "\n",
        "# Converter as datas de \"Mês-Ano\" para ano (por exemplo, \"Dec-17\" para 2017)\n",
        "df['Release'] = pd.to_datetime(df['Release'], format='%b-%y').dt.year\n",
        "\n",
        "# Classificar o DataFrame por empresa e data de lançamento\n",
        "df_sorted = df.sort_values(by=['Developer', 'Release'])\n",
        "\n",
        "# Calcular o intervalo de lançamento entre jogos da mesma empresa\n",
        "df_sorted['Intervalo'] = df_sorted.groupby('Developer')['Release'].diff()\n",
        "\n",
        "# Encontrar o menor intervalo de lançamento para cada empresa\n",
        "min_intervals = df_sorted.groupby('Developer')['Intervalo'].min().reset_index()\n",
        "\n",
        "# Criar um gráfico de barras com Plotly Express\n",
        "fig = px.bar(min_intervals, x='Developer', y='Intervalo', text='Intervalo',\n",
        "             labels={'Developer': 'Desenvolvedor', 'Intervalo': 'Intervalo (anos)'},\n",
        "             title='Menor Intervalo de Lançamento entre Jogos por Desenvolvedor')\n",
        "\n",
        "# Enviar o gráfico para o Chart Studio\n",
        "py.plot(fig, filename='menor-intervalo-lancamento-desenvolvedor')\n"
      ],
      "metadata": {
        "colab": {
          "base_uri": "https://localhost:8080/",
          "height": 35
        },
        "id": "qmfcHpCcPGqr",
        "outputId": "c03483eb-8274-4487-f2cd-0f3a22ad561b"
      },
      "execution_count": null,
      "outputs": [
        {
          "output_type": "execute_result",
          "data": {
            "text/plain": [
              "'https://plotly.com/~luclucs/34/'"
            ],
            "application/vnd.google.colaboratory.intrinsic+json": {
              "type": "string"
            }
          },
          "metadata": {},
          "execution_count": 24
        }
      ]
    },
    {
      "cell_type": "code",
      "source": [
        "# Qual empresa cresceu mais em vendas ao longo dos anos?\n",
        "import pandas as pd\n",
        "\n",
        "# Carregar a base de dados\n",
        "df = pd.read_csv('/content/Games.csv')\n",
        "\n",
        "# Converter a coluna 'Release' para o tipo de data\n",
        "df['Release'] = pd.to_datetime(df['Release'], format='%b-%y', errors='coerce')\n",
        "\n",
        "# Filtrar as linhas com datas de lançamento válidas\n",
        "df = df[df['Release'].notna()]\n",
        "\n",
        "# Agrupar os dados por empresa e ano, calculando as vendas totais\n",
        "vendas_por_empresa_ano = df.groupby(['Developer', df['Release'].dt.year])['Sales'].sum().reset_index()\n",
        "\n",
        "# Calcular o crescimento percentual das vendas para cada empresa ao longo dos anos\n",
        "vendas_por_empresa_ano['Crescimento'] = vendas_por_empresa_ano.groupby('Developer')['Sales'].pct_change() * 100\n",
        "\n",
        "# Encontrar a empresa com o maior crescimento percentual\n",
        "empresa_maior_crescimento = vendas_por_empresa_ano.groupby('Developer')['Crescimento'].mean().idxmax()\n",
        "maior_crescimento = vendas_por_empresa_ano.groupby('Developer')['Crescimento'].mean().max()\n",
        "\n",
        "# Exibir a empresa com o maior crescimento percentual\n",
        "print(f\"A empresa com o maior crescimento em vendas foi {empresa_maior_crescimento} com um crescimento médio de {maior_crescimento:.2f}% ao longo dos anos.\")\n"
      ],
      "metadata": {
        "colab": {
          "base_uri": "https://localhost:8080/"
        },
        "id": "wfDKT3uQE7PY",
        "outputId": "53d9a6f4-dae1-426c-d5c2-e2c5626570cd"
      },
      "execution_count": null,
      "outputs": [
        {
          "output_type": "stream",
          "name": "stdout",
          "text": [
            "A empresa com o maior crescimento em vendas foi CD Projekt Red com um crescimento médio de 145.83% ao longo dos anos.\n"
          ]
        }
      ]
    },
    {
      "cell_type": "code",
      "source": [
        "import pandas as pd\n",
        "import chart_studio.plotly as py\n",
        "\n",
        "# Carregar a base de dados\n",
        "df = pd.read_csv('/content/Games.csv')\n",
        "\n",
        "# Converter as datas de \"Mês-Ano\" para ano (por exemplo, \"Dec-17\" para 2017)\n",
        "df['Release'] = pd.to_datetime(df['Release'], format='%b-%y').dt.year\n",
        "\n",
        "# Calcular a taxa média de crescimento de vendas para cada empresa\n",
        "sales_by_company_and_year = df.groupby(['Developer', 'Release'])['Sales'].sum().reset_index()\n",
        "sales_by_company_and_year['Growth Rate'] = sales_by_company_and_year.groupby('Developer')['Sales'].pct_change() * 100\n",
        "\n",
        "# Encontrar as Top 10 empresas com as maiores taxas médias de crescimento\n",
        "top_10_companies = sales_by_company_and_year.groupby('Developer')['Growth Rate'].mean().nlargest(10)\n",
        "\n",
        "# Criar um gráfico de barras para visualizar as Top 10 empresas\n",
        "fig = px.bar(top_10_companies, x=top_10_companies.index, y=top_10_companies.values,\n",
        "             labels={'x': 'Desenvolvedor', 'y': 'Taxa Média de Crescimento de Vendas (%)'},\n",
        "             title='Top 10 Empresas com Maior Crescimento Médio de Vendas ao Longo dos Anos')\n",
        "\n",
        "# Enviar o gráfico para o Chart Studio\n",
        "py.plot(fig, filename='top-10-empresas-crescimento-vendas')\n",
        "\n"
      ],
      "metadata": {
        "colab": {
          "base_uri": "https://localhost:8080/",
          "height": 35
        },
        "id": "9SEwv2M2RF9U",
        "outputId": "1be35303-b375-49e2-af50-01931679dd0f"
      },
      "execution_count": null,
      "outputs": [
        {
          "output_type": "execute_result",
          "data": {
            "text/plain": [
              "'https://plotly.com/~luclucs/40/'"
            ],
            "application/vnd.google.colaboratory.intrinsic+json": {
              "type": "string"
            }
          },
          "metadata": {},
          "execution_count": 26
        }
      ]
    }
  ]
}