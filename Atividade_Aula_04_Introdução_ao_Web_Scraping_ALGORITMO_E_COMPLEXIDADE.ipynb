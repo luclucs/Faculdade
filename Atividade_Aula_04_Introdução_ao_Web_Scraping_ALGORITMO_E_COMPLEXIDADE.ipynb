{
  "nbformat": 4,
  "nbformat_minor": 0,
  "metadata": {
    "colab": {
      "provenance": [],
      "include_colab_link": true
    },
    "kernelspec": {
      "name": "python3",
      "display_name": "Python 3"
    },
    "language_info": {
      "name": "python"
    }
  },
  "cells": [
    {
      "cell_type": "markdown",
      "metadata": {
        "id": "view-in-github",
        "colab_type": "text"
      },
      "source": [
        "<a href=\"https://colab.research.google.com/github/luclucs/Faculdade/blob/main/Atividade_Aula_04_Introdu%C3%A7%C3%A3o_ao_Web_Scraping_ALGORITMO_E_COMPLEXIDADE.ipynb\" target=\"_parent\"><img src=\"https://colab.research.google.com/assets/colab-badge.svg\" alt=\"Open In Colab\"/></a>"
      ]
    },
    {
      "cell_type": "markdown",
      "source": [
        "#Aula 04: Introdução ao Web Scraping"
      ],
      "metadata": {
        "id": "RX_2J_ZnhwBV"
      }
    },
    {
      "cell_type": "markdown",
      "source": [
        "##Introdução ao Web Scraping com BeautifulSoup"
      ],
      "metadata": {
        "id": "3wUJ3Cxkhzrk"
      }
    },
    {
      "cell_type": "code",
      "execution_count": null,
      "metadata": {
        "colab": {
          "base_uri": "https://localhost:8080/"
        },
        "id": "qhScvtdmg8GE",
        "outputId": "6bca9300-9644-47f8-90d5-a72ee613d760"
      },
      "outputs": [
        {
          "output_type": "stream",
          "name": "stdout",
          "text": [
            "Requirement already satisfied: requests in /usr/local/lib/python3.12/dist-packages (2.32.4)\n",
            "Requirement already satisfied: beautifulsoup4 in /usr/local/lib/python3.12/dist-packages (4.13.5)\n",
            "Requirement already satisfied: charset_normalizer<4,>=2 in /usr/local/lib/python3.12/dist-packages (from requests) (3.4.3)\n",
            "Requirement already satisfied: idna<4,>=2.5 in /usr/local/lib/python3.12/dist-packages (from requests) (3.10)\n",
            "Requirement already satisfied: urllib3<3,>=1.21.1 in /usr/local/lib/python3.12/dist-packages (from requests) (2.5.0)\n",
            "Requirement already satisfied: certifi>=2017.4.17 in /usr/local/lib/python3.12/dist-packages (from requests) (2025.8.3)\n",
            "Requirement already satisfied: soupsieve>1.2 in /usr/local/lib/python3.12/dist-packages (from beautifulsoup4) (2.8)\n",
            "Requirement already satisfied: typing-extensions>=4.0.0 in /usr/local/lib/python3.12/dist-packages (from beautifulsoup4) (4.15.0)\n"
          ]
        }
      ],
      "source": [
        "# Instalação\n",
        "!pip install requests beautifulsoup4"
      ]
    },
    {
      "cell_type": "markdown",
      "source": [
        "### Estrutura Básica do BeautifulSoup"
      ],
      "metadata": {
        "id": "akd3AidUh-x6"
      }
    },
    {
      "cell_type": "code",
      "source": [
        "from bs4 import BeautifulSoup\n",
        "\n",
        "html = \"\"\"\n",
        "<html>\n",
        "  <body>\n",
        "    <h1>Título</h1>\n",
        "    <p class=\"texto\">Primeiro parágrafo</p>\n",
        "    <p class=\"texto\">Segundo parágrafo</p>\n",
        "  </body>\n",
        "</html>\n",
        "\"\"\"\n",
        "\n",
        "sopa = BeautifulSoup(html, \"html.parser\")\n",
        "\n",
        "# Pegando o título\n",
        "print(sopa.h1.text)\n",
        "\n",
        "# Pegando todos os parágrafos\n",
        "for p in sopa.find_all(\"p\", class_=\"texto\"):\n",
        "    print(p.text)"
      ],
      "metadata": {
        "colab": {
          "base_uri": "https://localhost:8080/"
        },
        "id": "hsq_FYNziASQ",
        "outputId": "31f33231-8cbd-4d41-a02f-ea0e02283fa4"
      },
      "execution_count": null,
      "outputs": [
        {
          "output_type": "stream",
          "name": "stdout",
          "text": [
            "Título\n",
            "Primeiro parágrafo\n",
            "Segundo parágrafo\n"
          ]
        }
      ]
    },
    {
      "cell_type": "markdown",
      "source": [
        "### Usando com páginas web reais"
      ],
      "metadata": {
        "id": "DO5CLu7OiFRy"
      }
    },
    {
      "cell_type": "code",
      "source": [
        "import requests\n",
        "from bs4 import BeautifulSoup\n",
        "\n",
        "url = \"https://quotes.toscrape.com/\"\n",
        "resposta = requests.get(url)\n",
        "\n",
        "# Criar o objeto BeautifulSoup\n",
        "sopa = BeautifulSoup(resposta.text, \"html.parser\")\n",
        "\n",
        "# Extrair citações\n",
        "citacoes = sopa.find_all(\"span\", class_=\"text\")\n",
        "autores = sopa.find_all(\"small\", class_=\"author\")\n",
        "\n",
        "for c, a in zip(citacoes, autores):\n",
        "    print(f\"{c.text} — {a.text}\")"
      ],
      "metadata": {
        "colab": {
          "base_uri": "https://localhost:8080/"
        },
        "id": "AywbJ3wTiCIk",
        "outputId": "8b48684b-c48b-47bc-bafa-2acb1f7fb0cc"
      },
      "execution_count": null,
      "outputs": [
        {
          "output_type": "stream",
          "name": "stdout",
          "text": [
            "“The world as we have created it is a process of our thinking. It cannot be changed without changing our thinking.” — Albert Einstein\n",
            "“It is our choices, Harry, that show what we truly are, far more than our abilities.” — J.K. Rowling\n",
            "“There are only two ways to live your life. One is as though nothing is a miracle. The other is as though everything is a miracle.” — Albert Einstein\n",
            "“The person, be it gentleman or lady, who has not pleasure in a good novel, must be intolerably stupid.” — Jane Austen\n",
            "“Imperfection is beauty, madness is genius and it's better to be absolutely ridiculous than absolutely boring.” — Marilyn Monroe\n",
            "“Try not to become a man of success. Rather become a man of value.” — Albert Einstein\n",
            "“It is better to be hated for what you are than to be loved for what you are not.” — André Gide\n",
            "“I have not failed. I've just found 10,000 ways that won't work.” — Thomas A. Edison\n",
            "“A woman is like a tea bag; you never know how strong it is until it's in hot water.” — Eleanor Roosevelt\n",
            "“A day without sunshine is like, you know, night.” — Steve Martin\n"
          ]
        }
      ]
    },
    {
      "cell_type": "code",
      "source": [
        "import requests\n",
        "from bs4 import BeautifulSoup\n",
        "import csv\n",
        "\n",
        "url = \"https://books.toscrape.com/index.html\"\n",
        "r = requests.get(url, timeout=30)\n",
        "if r.status_code != 200:\n",
        "    print(f\"HTTP {r.status_code}\")\n",
        "    raise SystemExit\n",
        "\n",
        "soup = BeautifulSoup(r.content, \"html.parser\")\n",
        "rows = []\n",
        "for card in soup.find_all(\"article\", class_=\"product_pod\"):\n",
        "    a = card.find(\"h3\").find(\"a\")\n",
        "    title = a.get(\"title\") or a.get_text(strip=True)\n",
        "    price = card.find(\"p\", class_=\"price_color\").get_text(strip=True)\n",
        "    avail = card.find(\"p\", class_=\"instock availability\").get_text(strip=True)\n",
        "    print(f\"{title} | {price} | {avail}\")\n",
        "    rows.append([title, price, avail])\n",
        "\n",
        "with open(\"books_page1.csv\", \"w\", newline=\"\", encoding=\"utf-8-sig\") as f:\n",
        "    w = csv.writer(f)\n",
        "    w.writerow([\"titulo\", \"preco\", \"disponibilidade\"])\n",
        "    w.writerows(rows)\n",
        "\n"
      ],
      "metadata": {
        "id": "1rzeYvEDiI0C",
        "colab": {
          "base_uri": "https://localhost:8080/"
        },
        "outputId": "f9ea14ee-8ca6-465e-8a96-dcd1e97891e8"
      },
      "execution_count": 2,
      "outputs": [
        {
          "output_type": "stream",
          "name": "stdout",
          "text": [
            "A Light in the Attic | £51.77 | In stock\n",
            "Tipping the Velvet | £53.74 | In stock\n",
            "Soumission | £50.10 | In stock\n",
            "Sharp Objects | £47.82 | In stock\n",
            "Sapiens: A Brief History of Humankind | £54.23 | In stock\n",
            "The Requiem Red | £22.65 | In stock\n",
            "The Dirty Little Secrets of Getting Your Dream Job | £33.34 | In stock\n",
            "The Coming Woman: A Novel Based on the Life of the Infamous Feminist, Victoria Woodhull | £17.93 | In stock\n",
            "The Boys in the Boat: Nine Americans and Their Epic Quest for Gold at the 1936 Berlin Olympics | £22.60 | In stock\n",
            "The Black Maria | £52.15 | In stock\n",
            "Starving Hearts (Triangular Trade Trilogy, #1) | £13.99 | In stock\n",
            "Shakespeare's Sonnets | £20.66 | In stock\n",
            "Set Me Free | £17.46 | In stock\n",
            "Scott Pilgrim's Precious Little Life (Scott Pilgrim #1) | £52.29 | In stock\n",
            "Rip it Up and Start Again | £35.02 | In stock\n",
            "Our Band Could Be Your Life: Scenes from the American Indie Underground, 1981-1991 | £57.25 | In stock\n",
            "Olio | £23.88 | In stock\n",
            "Mesaerion: The Best Science Fiction Stories 1800-1849 | £37.59 | In stock\n",
            "Libertarianism for Beginners | £51.33 | In stock\n",
            "It's Only the Himalayas | £45.17 | In stock\n"
          ]
        }
      ]
    }
  ]
}